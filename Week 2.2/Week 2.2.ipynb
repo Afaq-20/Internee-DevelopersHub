{
 "cells": [
  {
   "cell_type": "code",
   "execution_count": 1,
   "id": "f3bf6b4a-0447-4457-9630-073e6870c67c",
   "metadata": {},
   "outputs": [],
   "source": [
    "import pandas as pd\n",
    "from sklearn.feature_extraction.text import CountVectorizer"
   ]
  },
  {
   "cell_type": "code",
   "execution_count": 3,
   "id": "3ac55c7d-4592-459d-a77f-eb4918cff4d3",
   "metadata": {},
   "outputs": [
    {
     "data": {
      "text/html": [
       "<div>\n",
       "<style scoped>\n",
       "    .dataframe tbody tr th:only-of-type {\n",
       "        vertical-align: middle;\n",
       "    }\n",
       "\n",
       "    .dataframe tbody tr th {\n",
       "        vertical-align: top;\n",
       "    }\n",
       "\n",
       "    .dataframe thead th {\n",
       "        text-align: right;\n",
       "    }\n",
       "</style>\n",
       "<table border=\"1\" class=\"dataframe\">\n",
       "  <thead>\n",
       "    <tr style=\"text-align: right;\">\n",
       "      <th></th>\n",
       "      <th>Unnamed: 0</th>\n",
       "      <th>label</th>\n",
       "      <th>text</th>\n",
       "      <th>label_num</th>\n",
       "    </tr>\n",
       "  </thead>\n",
       "  <tbody>\n",
       "    <tr>\n",
       "      <th>0</th>\n",
       "      <td>605</td>\n",
       "      <td>ham</td>\n",
       "      <td>Subject: enron methanol ; meter # : 988291\\r\\n...</td>\n",
       "      <td>0</td>\n",
       "    </tr>\n",
       "    <tr>\n",
       "      <th>1</th>\n",
       "      <td>2349</td>\n",
       "      <td>ham</td>\n",
       "      <td>Subject: hpl nom for january 9 , 2001\\r\\n( see...</td>\n",
       "      <td>0</td>\n",
       "    </tr>\n",
       "    <tr>\n",
       "      <th>2</th>\n",
       "      <td>3624</td>\n",
       "      <td>ham</td>\n",
       "      <td>Subject: neon retreat\\r\\nho ho ho , we ' re ar...</td>\n",
       "      <td>0</td>\n",
       "    </tr>\n",
       "    <tr>\n",
       "      <th>3</th>\n",
       "      <td>4685</td>\n",
       "      <td>spam</td>\n",
       "      <td>Subject: photoshop , windows , office . cheap ...</td>\n",
       "      <td>1</td>\n",
       "    </tr>\n",
       "    <tr>\n",
       "      <th>4</th>\n",
       "      <td>2030</td>\n",
       "      <td>ham</td>\n",
       "      <td>Subject: re : indian springs\\r\\nthis deal is t...</td>\n",
       "      <td>0</td>\n",
       "    </tr>\n",
       "  </tbody>\n",
       "</table>\n",
       "</div>"
      ],
      "text/plain": [
       "   Unnamed: 0 label                                               text  \\\n",
       "0         605   ham  Subject: enron methanol ; meter # : 988291\\r\\n...   \n",
       "1        2349   ham  Subject: hpl nom for january 9 , 2001\\r\\n( see...   \n",
       "2        3624   ham  Subject: neon retreat\\r\\nho ho ho , we ' re ar...   \n",
       "3        4685  spam  Subject: photoshop , windows , office . cheap ...   \n",
       "4        2030   ham  Subject: re : indian springs\\r\\nthis deal is t...   \n",
       "\n",
       "   label_num  \n",
       "0          0  \n",
       "1          0  \n",
       "2          0  \n",
       "3          1  \n",
       "4          0  "
      ]
     },
     "execution_count": 3,
     "metadata": {},
     "output_type": "execute_result"
    }
   ],
   "source": [
    "df = pd.read_csv('spam_ham_dataset.csv')\n",
    "df.head()"
   ]
  },
  {
   "cell_type": "code",
   "execution_count": 4,
   "id": "bfe51e3f-f5b5-45e6-884e-687092b66fdf",
   "metadata": {},
   "outputs": [
    {
     "data": {
      "text/plain": [
       "(5171, 4)"
      ]
     },
     "execution_count": 4,
     "metadata": {},
     "output_type": "execute_result"
    }
   ],
   "source": [
    "df.shape"
   ]
  },
  {
   "cell_type": "code",
   "execution_count": 7,
   "id": "c3a0c103-ecce-49e3-9f5d-6e0d5effa582",
   "metadata": {},
   "outputs": [
    {
     "name": "stdout",
     "output_type": "stream",
     "text": [
      "      00  000  0000  000000  000000000002858  000000000049773  000080  000099  \\\n",
      "0      1    0     0       0                0                0       0       0   \n",
      "1      0    0     0       0                0                0       0       0   \n",
      "2      0    0     0       0                0                0       0       0   \n",
      "3      0    0     0       0                0                0       0       0   \n",
      "4      0    0     0       0                0                0       0       0   \n",
      "...   ..  ...   ...     ...              ...              ...     ...     ...   \n",
      "5166   0    0     0       0                0                0       0       0   \n",
      "5167   0    4     0       0                0                0       0       0   \n",
      "5168   0    0     0       0                0                0       0       0   \n",
      "5169   0    0     0       0                0                0       0       0   \n",
      "5170   0    0     0       0                0                0       0       0   \n",
      "\n",
      "      0001  00018  ...  zynve  zyqtaqlt  zyrtec  zyyqywp  zzezrjok  zzn  zzo  \\\n",
      "0        0      0  ...      0         0       0        0         0    0    0   \n",
      "1        0      0  ...      0         0       0        0         0    0    0   \n",
      "2        0      0  ...      0         0       0        0         0    0    0   \n",
      "3        0      0  ...      0         0       0        0         0    0    0   \n",
      "4        0      0  ...      0         0       0        0         0    0    0   \n",
      "...    ...    ...  ...    ...       ...     ...      ...       ...  ...  ...   \n",
      "5166     0      0  ...      0         0       0        0         0    0    0   \n",
      "5167     0      0  ...      0         0       0        0         0    0    0   \n",
      "5168     0      0  ...      0         0       0        0         0    0    0   \n",
      "5169     0      0  ...      0         0       0        0         0    0    0   \n",
      "5170     0      0  ...      0         0       0        0         0    0    0   \n",
      "\n",
      "      zzocb  zzso  zzsyt  \n",
      "0         0     0      0  \n",
      "1         0     0      0  \n",
      "2         0     0      0  \n",
      "3         0     0      0  \n",
      "4         0     0      0  \n",
      "...     ...   ...    ...  \n",
      "5166      0     0      0  \n",
      "5167      0     0      0  \n",
      "5168      0     0      0  \n",
      "5169      0     0      0  \n",
      "5170      0     0      0  \n",
      "\n",
      "[5171 rows x 50447 columns]\n"
     ]
    }
   ],
   "source": [
    "##emails = [\"Free money now, click here!\", \"Win a lottery by clicking here!\", \"Hurry, limited time offer\"]\n",
    "\n",
    "vectorizer = CountVectorizer()\n",
    "\n",
    "X = vectorizer.fit_transform(df.text)\n",
    "df_bow = pd.DataFrame(X.toarray(), columns=vectorizer.get_feature_names_out())\n",
    "print(df_bow)"
   ]
  },
  {
   "cell_type": "code",
   "execution_count": 9,
   "id": "134af4a9-f682-437f-b371-2523a376b663",
   "metadata": {},
   "outputs": [
    {
     "data": {
      "image/png": "[encoded data removed]",
      "text/plain": [
       "<Figure size 1200x600 with 1 Axes>"
      ]
     },
     "metadata": {},
     "output_type": "display_data"
    }
   ],
   "source": [
    "import matplotlib.pyplot as plt\n",
    "import seaborn as sns\n",
    "\n",
    "df_bow_cleaned = df_bow.loc[:, ~df_bow.columns.str.contains('^\\d+')]\n",
    "\n",
    "word_frequencies = df_bow_cleaned.sum().sort_values(ascending=False).head(20)\n",
    "\n",
    "plt.figure(figsize=(12, 6))\n",
    "sns.barplot(x=word_frequencies.index, y=word_frequencies.values)\n",
    "plt.xticks(rotation=45)\n",
    "plt.title(\"Top 20 Most Frequent Words\")\n",
    "plt.xlabel(\"Words\")\n",
    "plt.ylabel(\"Frequency\")\n",
    "plt.show()"
   ]
  },
  {
   "cell_type": "code",
   "execution_count": null,
   "id": "cb064b67-9bfd-4266-a604-b589a296a52c",
   "metadata": {},
   "outputs": [],
   "source": []
  }
 ],
 "metadata": {
  "kernelspec": {
   "display_name": "Python 3 (ipykernel)",
   "language": "python",
   "name": "python3"
  },
  "language_info": {
   "codemirror_mode": {
    "name": "ipython",
    "version": 3
   },
   "file_extension": ".py",
   "mimetype": "text/x-python",
   "name": "python",
   "nbconvert_exporter": "python",
   "pygments_lexer": "ipython3",
   "version": "3.11.4"
  },
  "widgets": {
   "application/vnd.jupyter.widget-state+json": {
    "state": {},
    "version_major": 2,
    "version_minor": 0
   }
  }
 },
 "nbformat": 4,
 "nbformat_minor": 5
}
