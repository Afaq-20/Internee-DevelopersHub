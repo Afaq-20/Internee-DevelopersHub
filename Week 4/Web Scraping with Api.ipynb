{
 "cells": [
  {
   "cell_type": "markdown",
   "id": "6a201995-8bd8-4731-b72f-e4c16d3f6c43",
   "metadata": {},
   "source": [
    "## Web Scraping with API Integration:"
   ]
  },
  {
   "cell_type": "code",
   "execution_count": 6,
   "id": "f2d94669-0497-4ccc-9a0e-be369cc0e812",
   "metadata": {},
   "outputs": [
    {
     "name": "stdout",
     "output_type": "stream",
     "text": [
      "Successfully fetched the webpage\n",
      "Number of tables found: 2\n",
      "         Country  Population (1 July 2022)  Population (1 July 2023)  Change  \\\n",
      "0          World                8021407192                8091734930  +0.88%   \n",
      "1          India                1425423212                1438069596  +0.89%   \n",
      "2       China[a]                1425179569                1422584933  −0.18%   \n",
      "3  United States                 341534046                 343477335  +0.57%   \n",
      "4      Indonesia                 278830529                 281190067  +0.85%   \n",
      "\n",
      "  UN Continental Region[1] UN Statistical Subregion[1]  \n",
      "0                      NaN                         NaN  \n",
      "1                     Asia               Southern Asia  \n",
      "2                     Asia                Eastern Asia  \n",
      "3                 Americas            Northern America  \n",
      "4                     Asia          South-eastern Asia  \n",
      "Data saved to 'countries_population.csv'\n"
     ]
    }
   ],
   "source": [
    "import requests\n",
    "import pandas as pd\n",
    "import warnings\n",
    "warnings.filterwarnings(\"ignore\")\n",
    "\n",
    "url = \"https://en.wikipedia.org/wiki/List_of_countries_by_population_(United_Nations)\"\n",
    "\n",
    "response = requests.get(url)\n",
    "if response.status_code == 200:\n",
    "    print(\"Successfully fetched the webpage\")\n",
    "else:\n",
    "    print(f\"Failed to fetch the webpage. Status code: {response.status_code}\")\n",
    "    exit()\n",
    "\n",
    "dfs = pd.read_html(response.text)\n",
    "\n",
    "print(f\"Number of tables found: {len(dfs)}\")\n",
    "\n",
    "df = dfs[0]\n",
    "\n",
    "print(df.head())\n",
    "\n",
    "df.to_csv('countries_population.csv', index=False)\n",
    "print(\"Data saved to 'countries_population.csv'\")\n"
   ]
  },
  {
   "cell_type": "markdown",
   "id": "440da5ed-baf3-4b00-8c6a-8a51de6cc808",
   "metadata": {},
   "source": [
    "## Data Cleaning and Analysis:"
   ]
  },
  {
   "cell_type": "code",
   "execution_count": 7,
   "id": "ddc4bd51-393b-4e2c-9d65-88412910c515",
   "metadata": {},
   "outputs": [
    {
     "data": {
      "text/html": [
       "<div>\n",
       "<style scoped>\n",
       "    .dataframe tbody tr th:only-of-type {\n",
       "        vertical-align: middle;\n",
       "    }\n",
       "\n",
       "    .dataframe tbody tr th {\n",
       "        vertical-align: top;\n",
       "    }\n",
       "\n",
       "    .dataframe thead th {\n",
       "        text-align: right;\n",
       "    }\n",
       "</style>\n",
       "<table border=\"1\" class=\"dataframe\">\n",
       "  <thead>\n",
       "    <tr style=\"text-align: right;\">\n",
       "      <th></th>\n",
       "      <th>Country</th>\n",
       "      <th>Population (1 July 2022)</th>\n",
       "      <th>Population (1 July 2023)</th>\n",
       "      <th>Change</th>\n",
       "      <th>UN Continental Region[1]</th>\n",
       "      <th>UN Statistical Subregion[1]</th>\n",
       "    </tr>\n",
       "  </thead>\n",
       "  <tbody>\n",
       "    <tr>\n",
       "      <th>0</th>\n",
       "      <td>World</td>\n",
       "      <td>8021407192</td>\n",
       "      <td>8091734930</td>\n",
       "      <td>+0.88%</td>\n",
       "      <td>NaN</td>\n",
       "      <td>NaN</td>\n",
       "    </tr>\n",
       "    <tr>\n",
       "      <th>1</th>\n",
       "      <td>India</td>\n",
       "      <td>1425423212</td>\n",
       "      <td>1438069596</td>\n",
       "      <td>+0.89%</td>\n",
       "      <td>Asia</td>\n",
       "      <td>Southern Asia</td>\n",
       "    </tr>\n",
       "    <tr>\n",
       "      <th>2</th>\n",
       "      <td>China[a]</td>\n",
       "      <td>1425179569</td>\n",
       "      <td>1422584933</td>\n",
       "      <td>−0.18%</td>\n",
       "      <td>Asia</td>\n",
       "      <td>Eastern Asia</td>\n",
       "    </tr>\n",
       "    <tr>\n",
       "      <th>3</th>\n",
       "      <td>United States</td>\n",
       "      <td>341534046</td>\n",
       "      <td>343477335</td>\n",
       "      <td>+0.57%</td>\n",
       "      <td>Americas</td>\n",
       "      <td>Northern America</td>\n",
       "    </tr>\n",
       "    <tr>\n",
       "      <th>4</th>\n",
       "      <td>Indonesia</td>\n",
       "      <td>278830529</td>\n",
       "      <td>281190067</td>\n",
       "      <td>+0.85%</td>\n",
       "      <td>Asia</td>\n",
       "      <td>South-eastern Asia</td>\n",
       "    </tr>\n",
       "  </tbody>\n",
       "</table>\n",
       "</div>"
      ],
      "text/plain": [
       "         Country  Population (1 July 2022)  Population (1 July 2023)  Change  \\\n",
       "0          World                8021407192                8091734930  +0.88%   \n",
       "1          India                1425423212                1438069596  +0.89%   \n",
       "2       China[a]                1425179569                1422584933  −0.18%   \n",
       "3  United States                 341534046                 343477335  +0.57%   \n",
       "4      Indonesia                 278830529                 281190067  +0.85%   \n",
       "\n",
       "  UN Continental Region[1] UN Statistical Subregion[1]  \n",
       "0                      NaN                         NaN  \n",
       "1                     Asia               Southern Asia  \n",
       "2                     Asia                Eastern Asia  \n",
       "3                 Americas            Northern America  \n",
       "4                     Asia          South-eastern Asia  "
      ]
     },
     "execution_count": 7,
     "metadata": {},
     "output_type": "execute_result"
    }
   ],
   "source": [
    "df = pd.read_csv('countries_population.csv')\n",
    "df.head()"
   ]
  },
  {
   "cell_type": "code",
   "execution_count": 9,
   "id": "2cf18a4e-1787-4743-ba3b-4881846fca0b",
   "metadata": {},
   "outputs": [
    {
     "data": {
      "text/plain": [
       "(238, 6)"
      ]
     },
     "execution_count": 9,
     "metadata": {},
     "output_type": "execute_result"
    }
   ],
   "source": [
    "df.shape"
   ]
  },
  {
   "cell_type": "code",
   "execution_count": 8,
   "id": "2bde721a-aaca-4ba6-90f4-8cd9d5d28df9",
   "metadata": {},
   "outputs": [
    {
     "data": {
      "text/plain": [
       "Country                        0\n",
       "Population (1 July 2022)       0\n",
       "Population (1 July 2023)       0\n",
       "Change                         0\n",
       "UN Continental Region[1]       1\n",
       "UN Statistical Subregion[1]    1\n",
       "dtype: int64"
      ]
     },
     "execution_count": 8,
     "metadata": {},
     "output_type": "execute_result"
    }
   ],
   "source": [
    "df.isna().sum()"
   ]
  },
  {
   "cell_type": "code",
   "execution_count": 14,
   "id": "331410f5-dd1f-451d-9ecd-d5d37195126c",
   "metadata": {},
   "outputs": [
    {
     "data": {
      "text/html": [
       "<div>\n",
       "<style scoped>\n",
       "    .dataframe tbody tr th:only-of-type {\n",
       "        vertical-align: middle;\n",
       "    }\n",
       "\n",
       "    .dataframe tbody tr th {\n",
       "        vertical-align: top;\n",
       "    }\n",
       "\n",
       "    .dataframe thead th {\n",
       "        text-align: right;\n",
       "    }\n",
       "</style>\n",
       "<table border=\"1\" class=\"dataframe\">\n",
       "  <thead>\n",
       "    <tr style=\"text-align: right;\">\n",
       "      <th></th>\n",
       "      <th>Country</th>\n",
       "      <th>Population (1 July 2022)</th>\n",
       "      <th>Population (1 July 2023)</th>\n",
       "      <th>Change</th>\n",
       "      <th>UN Continental Region[1]</th>\n",
       "      <th>UN Statistical Subregion[1]</th>\n",
       "    </tr>\n",
       "  </thead>\n",
       "  <tbody>\n",
       "    <tr>\n",
       "      <th>0</th>\n",
       "      <td>World</td>\n",
       "      <td>8021407192</td>\n",
       "      <td>8091734930</td>\n",
       "      <td>+0.88%</td>\n",
       "      <td>NaN</td>\n",
       "      <td>NaN</td>\n",
       "    </tr>\n",
       "  </tbody>\n",
       "</table>\n",
       "</div>"
      ],
      "text/plain": [
       "  Country  Population (1 July 2022)  Population (1 July 2023)  Change  \\\n",
       "0   World                8021407192                8091734930  +0.88%   \n",
       "\n",
       "  UN Continental Region[1] UN Statistical Subregion[1]  \n",
       "0                      NaN                         NaN  "
      ]
     },
     "execution_count": 14,
     "metadata": {},
     "output_type": "execute_result"
    }
   ],
   "source": [
    "df[df['UN Continental Region[1]'].isna()]"
   ]
  },
  {
   "cell_type": "markdown",
   "id": "c3bd9d6f-661f-49b9-99a8-bca99ac4bd23",
   "metadata": {},
   "source": [
    "There is no need to remove it"
   ]
  },
  {
   "cell_type": "code",
   "execution_count": 17,
   "id": "8ec71ff0-54b6-4e9a-8d61-50a8482a3429",
   "metadata": {},
   "outputs": [
    {
     "data": {
      "text/plain": [
       "0"
      ]
     },
     "execution_count": 17,
     "metadata": {},
     "output_type": "execute_result"
    }
   ],
   "source": [
    "df.duplicated().sum()"
   ]
  },
  {
   "cell_type": "markdown",
   "id": "4ac9c7a0-8371-4911-9891-979b4de37a99",
   "metadata": {},
   "source": [
    "## Data Visualization"
   ]
  },
  {
   "cell_type": "code",
   "execution_count": 23,
   "id": "edc1115a-00b2-4350-a0a7-cd44248fe874",
   "metadata": {},
   "outputs": [
    {
     "data": {
      "image/png": "[encoded data removed]",
      "text/plain": [
       "<Figure size 1000x600 with 1 Axes>"
      ]
     },
     "metadata": {},
     "output_type": "display_data"
    }
   ],
   "source": [
    "import matplotlib.pyplot as plt\n",
    "import seaborn as sns\n",
    "\n",
    "\n",
    "sns.set(style=\"whitegrid\")\n",
    "\n",
    "plt.figure(figsize=(10, 6))\n",
    "sns.barplot(x=\"Change\", y=\"Country\", data=df.head(10), palette=\"coolwarm\")\n",
    "plt.title(\"Top 10 Countries by Population Change (2022-2023)\")\n",
    "plt.xlabel(\"Percentage Change\")\n",
    "plt.ylabel(\"Country\")\n",
    "plt.show()\n",
    "\n",
    "df.to_csv('cleaned_population_data.csv', index=False)"
   ]
  },
  {
   "cell_type": "markdown",
   "id": "60cf3392-fd0f-465f-bcd3-bf1deb35f479",
   "metadata": {},
   "source": [
    "## Comparison of Tools and Techniques:"
   ]
  },
  {
   "cell_type": "markdown",
   "id": "68ed8711-d1fc-4dca-bfd5-c4fc6d503486",
   "metadata": {},
   "source": [
    "### BeautifulSoup\n",
    "\n",
    "- **Performance**: Suitable for small to medium-sized static websites. Slower for large datasets.\n",
    "- **Ease of Use**: Very simple, ideal for beginners with an easy-to-understand API.\n",
    "- **Handling Dynamic Content**: Poor, not suitable for JavaScript-rendered websites.\n",
    "- **Best For**: Static HTML pages or websites with minimal dynamic content.\n",
    "\n",
    "### Scrapy\n",
    "\n",
    "- **Performance**: High, designed for large-scale scraping with support for concurrent requests.\n",
    "- **Ease of Use**: Moderate, requires some learning but offers great flexibility.\n",
    "- **Handling Dynamic Content**: Can handle AJAX but not fully JavaScript-rendered content.\n",
    "- **Best For**: Large-scale scraping projects where speed and efficiency are crucial.\n",
    "\n",
    "### Selenium\n",
    "\n",
    "- **Performance**: Slow, as it renders full web pages and simulates a browser.\n",
    "- **Ease of Use**: Moderate, requires setup with browser drivers.\n",
    "- **Handling Dynamic Content**: Excellent for JavaScript-heavy sites, can handle complex interactions.\n",
    "- **Best For**: Websites with complex JavaScript and user interactions.\n"
   ]
  }
 ],
 "metadata": {
  "kernelspec": {
   "display_name": "Python 3 (ipykernel)",
   "language": "python",
   "name": "python3"
  },
  "language_info": {
   "codemirror_mode": {
    "name": "ipython",
    "version": 3
   },
   "file_extension": ".py",
   "mimetype": "text/x-python",
   "name": "python",
   "nbconvert_exporter": "python",
   "pygments_lexer": "ipython3",
   "version": "3.11.4"
  },
  "widgets": {
   "application/vnd.jupyter.widget-state+json": {
    "state": {},
    "version_major": 2,
    "version_minor": 0
   }
  }
 },
 "nbformat": 4,
 "nbformat_minor": 5
}
